{
 "cells": [
  {
   "cell_type": "markdown",
   "metadata": {},
   "source": [
    "1. Explain what inheritance is in object-oriented programming and why it is used.\n",
    "ANSWER :- \n",
    "\n",
    "inheritance is the property of the class in which we inheritant a properties from the differnt differnt class. in which propertity is inheritant by the parent class. Types of the inheritance properties are :- \n",
    "1) Single inheritance \n",
    "2) Multiple inheritance \n",
    "3) Multilevel inheritance \n",
    "4) Hierarchical inheritance \n",
    "5) hybrid inhertance"
   ]
  },
  {
   "cell_type": "markdown",
   "metadata": {},
   "source": [
    "2. Discuss the concept of single inheritance and multiple inheritance, highlighting their differences and advantages.\n",
    "ANSWER :-\n",
    "\n",
    "    Single inheritance :- where subclass inheritate the propertity of the superclass\n",
    "    \n",
    "    Multiple inheritance :- there are multiple super class and propertity is inheritate by single subclass or \n",
    "                            there are many parent class and propertity is inheritant by only single child class\n",
    "            \n",
    "    there differemce is :-\n",
    "        1) only single parent and single child class are inheritant a propertity whereas in multiple inheritance there \n",
    "           are many super class and single child class inheritate a property\n",
    "        2) easy to handle and other one is complex due to more availability of the super class\n",
    "        3) there are only one feature at a time but there are many "
   ]
  },
  {
   "cell_type": "markdown",
   "metadata": {},
   "source": [
    "3. Explain the terms \"base class\" and \"derived class\" in the context of inheritance.\n",
    "ANSWER :-\n",
    "\n",
    "    Base class :- represent the child or sub class\n",
    "    derived class :- represent the parent class or super class"
   ]
  },
  {
   "cell_type": "markdown",
   "metadata": {},
   "source": [
    "4. What is the significance of the \"protected\" access modifier in inheritance? How does it differ from \"private\" and \"public\" modifiers?\n",
    "ANSWER :-\n",
    "\n",
    "    there are 3 types encapsulation :- Private , Protected , Public\n",
    "    \n",
    "    private :- private does not allowed to access outside of the package class, it only allow in the class can not                        create a object\n",
    "    protected :- having access within the class and subclass it can not allow acces to outside of the class\n",
    "    public :- allow to access outside of the class"
   ]
  },
  {
   "cell_type": "markdown",
   "metadata": {},
   "source": [
    "5. What is the purpose of the \"super\" keyword in inheritance? Provide an example.\n",
    "ANSWER :- \n",
    "\n",
    "super is used to allow to call super class attributes"
   ]
  },
  {
   "cell_type": "code",
   "execution_count": 1,
   "metadata": {},
   "outputs": [],
   "source": [
    "#EXAMPLE\n",
    "class Emp:\n",
    "    \n",
    "    def __init__(self,name,id,branch,city):\n",
    "        self.name = name \n",
    "        self.id = id \n",
    "        self.branch = branch\n",
    "        self.city = city\n",
    "        \n",
    "    def __str__(self):\n",
    "        print(\"this is only for trail\")\n",
    "        \n",
    "class Detail(Emp):\n",
    "    \n",
    "    def __init__(self,name,id,branch,city,working_location, travel):\n",
    "        super().__init__(name,id,branch,city)\n",
    "        self.working_location = working_location\n",
    "        self.travel = travel\n",
    "        print(\"whole detail of the employer is :- \")\n",
    "        print(f\"name of the employee is {name}, id {id}, \\nbranch {branch} , city {city} \\nwrorking location {working_location} and travel by {travel}\")\n"
   ]
  },
  {
   "cell_type": "code",
   "execution_count": 2,
   "metadata": {},
   "outputs": [
    {
     "name": "stdout",
     "output_type": "stream",
     "text": [
      "whole detail of the employer is :- \n",
      "name of the employee is devendra, id 20, \n",
      "branch indore headoffice , city dewas \n",
      "wrorking location ujjain and travel by bus\n"
     ]
    }
   ],
   "source": [
    "c = Detail(\"devendra\",20,\"indore headoffice\",\"dewas\",\"ujjain\",\"bus\")\n"
   ]
  },
  {
   "cell_type": "markdown",
   "metadata": {},
   "source": [
    "6. Create a base class called \"Vehicle\" with attributes like \"make\", \"model\", and \"year\". Then, create a derived class called \"Car\" that inherits from \"Vehicle\" and adds an attribute called \"fuel_type\". Implement appropriate methods in both classes.\n",
    "\n",
    "ANSWER"
   ]
  },
  {
   "cell_type": "code",
   "execution_count": 4,
   "metadata": {},
   "outputs": [],
   "source": [
    "class Vehical:\n",
    "    \n",
    "    def __init__(self,make,model,year):\n",
    "        self.make = make\n",
    "        self.model = model\n",
    "        self.year = year\n",
    "        \n",
    "class Car(Vehical):\n",
    "    \n",
    "    def __init__(self,make,model,year,color,price):\n",
    "        super().__init__(make,model,year)\n",
    "        self.color = color\n",
    "        self.price = price\n",
    "        \n",
    "        \n",
    "    def detail(self):\n",
    "        print(\"detail of the car\")\n",
    "        print(self.make,self.model,self.year,self.color,self.price)"
   ]
  },
  {
   "cell_type": "code",
   "execution_count": 5,
   "metadata": {},
   "outputs": [],
   "source": [
    "c = Car('tata',\"tiago\",2023,'blue',7500000)\n"
   ]
  },
  {
   "cell_type": "code",
   "execution_count": 6,
   "metadata": {},
   "outputs": [
    {
     "name": "stdout",
     "output_type": "stream",
     "text": [
      "detail of the car\n",
      "tata tiago 2023 blue 7500000\n"
     ]
    }
   ],
   "source": [
    "c.detail()\n"
   ]
  },
  {
   "cell_type": "markdown",
   "metadata": {},
   "source": [
    "7. Create a base class called \"Employee\" with attributes like \"name\" and \"salary.\" Derive two classes, \"Manager\" and \"Developer,\" from \"Employee.\" Add an additional attribute called \"department\" for the \"Manager\" class and \"programming_language\" for the \"Developer\" class.\n",
    "\n",
    "ANSWER"
   ]
  },
  {
   "cell_type": "code",
   "execution_count": 7,
   "metadata": {},
   "outputs": [],
   "source": [
    "class Employee: #---------->> class\n",
    "    \n",
    "    def __init__(self,name,salary): #---------->> initializer and attributes or variables\n",
    "        self.name = name\n",
    "        self.salary = salary\n",
    "        \n",
    "class Manager(Employee): #---------->> derived class or child class \n",
    "    \n",
    "    def __init__(self,name,salary,department):\n",
    "        super().__init__(name,salary)#---------->> super method to inheritance the propertity of the parent class\n",
    "        self.department = department\n",
    "        print(\"first child class active\")\n",
    "        print(f\"name of the employee is {self.name} \\nsalary of the employee is {self.salary} \\ndepartment of the employee is {self.department}\")      \n",
    "\n",
    "\n",
    "class Developer(Employee): #---------->> derived class \n",
    "    \n",
    "    def __init__(self,name,salary,programming_language):\n",
    "        super().__init__(name,salary)\n",
    "        self.programming_language = programming_language\n",
    "        print(\"second child class active\")\n",
    "        print(f\"name of the employee is {self.name} \\nsalary of the employee is {self.salary} \\ndepartment of the employee is {self.programming_language}\")    \n"
   ]
  },
  {
   "cell_type": "code",
   "execution_count": 8,
   "metadata": {},
   "outputs": [
    {
     "name": "stdout",
     "output_type": "stream",
     "text": [
      "first child class active\n",
      "name of the employee is dev \n",
      "salary of the employee is 50000 \n",
      "department of the employee is data science\n"
     ]
    }
   ],
   "source": [
    "m = Manager(\"dev\",50000,\"data science\")\n"
   ]
  },
  {
   "cell_type": "code",
   "execution_count": 9,
   "metadata": {},
   "outputs": [
    {
     "data": {
      "text/plain": [
       "'data science'"
      ]
     },
     "execution_count": 9,
     "metadata": {},
     "output_type": "execute_result"
    }
   ],
   "source": [
    "m.department\n"
   ]
  },
  {
   "cell_type": "code",
   "execution_count": 10,
   "metadata": {},
   "outputs": [
    {
     "name": "stdout",
     "output_type": "stream",
     "text": [
      "second child class active\n",
      "name of the employee is shyam \n",
      "salary of the employee is 41000 \n",
      "department of the employee is python\n"
     ]
    }
   ],
   "source": [
    "d = Developer(\"shyam\",41000,\"python\")\n"
   ]
  },
  {
   "cell_type": "code",
   "execution_count": 11,
   "metadata": {},
   "outputs": [
    {
     "data": {
      "text/plain": [
       "'shyam'"
      ]
     },
     "execution_count": 11,
     "metadata": {},
     "output_type": "execute_result"
    }
   ],
   "source": [
    "d.name\n"
   ]
  },
  {
   "cell_type": "markdown",
   "metadata": {},
   "source": [
    "8. Design a base class called \"Shape\" with attributes like \"colour\" and \"border_width.\" Create derived classes, \"Rectangle\" and \"Circle,\" that inherit from \"Shape\" and add specific attributes like \"length\" and \"width\" for the \"Rectangle\" class and \"radius\" for the \"Circle\" class.\n",
    "\n",
    "ANSWER\n"
   ]
  },
  {
   "cell_type": "code",
   "execution_count": 12,
   "metadata": {},
   "outputs": [],
   "source": [
    "class Shape:\n",
    "    \n",
    "    def __init__(self,colour , border_width):\n",
    "        self.colour = colour\n",
    "        self.border_width = border_width\n",
    "        \n",
    "class Rectangle(Shape):\n",
    "    \n",
    "    def __init__(self,colour,border_width,length,width):\n",
    "        super().__init__(colour,border_width)\n",
    "        self.length = length\n",
    "        self.width = width\n",
    "        \n",
    "    def area_rectangle(self):\n",
    "        a = self.length * self.width\n",
    "        print(a)\n",
    "        \n",
    "    def perimeter_rec(self):\n",
    "        b = 2*self.length*self.width\n",
    "        print(b)\n",
    "        \n",
    "class Circle(Shape):\n",
    "    \n",
    "    def __init__(self,colour,border_width,radius):\n",
    "        super().__init__(colour,border_width)\n",
    "        self.radius = radius\n",
    "        \n",
    "    def area_circle(self):\n",
    "        c = 2.142*self.radius*self.radius\n",
    "        print(c)\n",
    "    \n"
   ]
  },
  {
   "cell_type": "code",
   "execution_count": 13,
   "metadata": {},
   "outputs": [],
   "source": [
    "r = Rectangle(\"blue\",\"red\",5,15)"
   ]
  },
  {
   "cell_type": "code",
   "execution_count": 14,
   "metadata": {},
   "outputs": [
    {
     "name": "stdout",
     "output_type": "stream",
     "text": [
      "75\n"
     ]
    }
   ],
   "source": [
    "r.area_rectangle()\n"
   ]
  },
  {
   "cell_type": "code",
   "execution_count": 15,
   "metadata": {},
   "outputs": [
    {
     "name": "stdout",
     "output_type": "stream",
     "text": [
      "150\n"
     ]
    }
   ],
   "source": [
    "r.perimeter_rec()\n"
   ]
  },
  {
   "cell_type": "code",
   "execution_count": 16,
   "metadata": {},
   "outputs": [],
   "source": [
    "c = Circle(\"red\",\"blue\",5)\n"
   ]
  },
  {
   "cell_type": "markdown",
   "metadata": {},
   "source": [
    "9. Create a base class called \"Device\" with attributes like \"brand\" and \"model.\" Derive two classes, \"Phone\" and \"Tablet,\" from \"Device.\" Add specific attributes like \"screen_size\" for the \"Phone\" class and \"battery_capacity\" for the \"Tablet\" class.\n",
    "\n",
    "ANSWER\n"
   ]
  },
  {
   "cell_type": "code",
   "execution_count": 17,
   "metadata": {},
   "outputs": [],
   "source": [
    "class Device:\n",
    "    \n",
    "    def specification(self,brand,model):\n",
    "        self.brand = brand\n",
    "        self.model = model\n",
    "        \n",
    "class Phone(Device):\n",
    "    \n",
    "    def __init__(self,brand,model,screen_size,battery):\n",
    "        super().specification(brand,model)\n",
    "        self.screen_size = screen_size\n",
    "        self.battery = battery\n",
    "        \n",
    "    def details(self):\n",
    "        self.charger = \"c-type\"\n",
    "        self.camera = \"40 mega pixel\"\n",
    "        print(f\"mobile phone contain a following information \\nmodel :- {self.model} \\nbrand :- {self.brand} \\nscreen :- {self.screen_size} \\nbattery :- {self.battery} \\ncharger :- {self.charger}\")\n",
    "        \n",
    "        \n",
    "class Tablet(Phone):\n",
    "    \n",
    "    def __init__(self,brand,model,screen_size,battery,processor):\n",
    "        super().__init__(brand,model,screen_size,battery)\n",
    "        #super().details(charger,camera)\n",
    "        self.processor = processor\n",
    "        #print(self.charger)\n",
    "        \n",
    "        \n",
    "    def details(self):\n",
    "         print(f\"tablet contain a following information \\nmodel :- {self.model} \\nbrand :- {self.brand} \\nscreen :- {self.screen_size} \\nprocessor :- {self.processor}\")\n",
    "       "
   ]
  },
  {
   "cell_type": "code",
   "execution_count": 18,
   "metadata": {},
   "outputs": [],
   "source": [
    "p = Phone('Vivo',\"y17\",\"15 inch\",\"5000mah\")\n"
   ]
  },
  {
   "cell_type": "code",
   "execution_count": 19,
   "metadata": {},
   "outputs": [
    {
     "name": "stdout",
     "output_type": "stream",
     "text": [
      "mobile phone contain a following information \n",
      "model :- y17 \n",
      "brand :- Vivo \n",
      "screen :- 15 inch \n",
      "battery :- 5000mah \n",
      "charger :- c-type\n"
     ]
    }
   ],
   "source": [
    "p.details()\n"
   ]
  },
  {
   "cell_type": "code",
   "execution_count": 20,
   "metadata": {},
   "outputs": [],
   "source": [
    "t = Tablet(\"Vivo\",\"y17\",\"20 inch\",\"4000MaH\",\"octacore\")\n"
   ]
  },
  {
   "cell_type": "code",
   "execution_count": 21,
   "metadata": {},
   "outputs": [
    {
     "data": {
      "text/plain": [
       "'Vivo'"
      ]
     },
     "execution_count": 21,
     "metadata": {},
     "output_type": "execute_result"
    }
   ],
   "source": [
    "t.brand\n"
   ]
  },
  {
   "cell_type": "code",
   "execution_count": 22,
   "metadata": {},
   "outputs": [
    {
     "name": "stdout",
     "output_type": "stream",
     "text": [
      "tablet contain a following information \n",
      "model :- y17 \n",
      "brand :- Vivo \n",
      "screen :- 20 inch \n",
      "processor :- octacore\n"
     ]
    }
   ],
   "source": [
    "t.details()\n"
   ]
  },
  {
   "cell_type": "markdown",
   "metadata": {},
   "source": [
    "10. Create a base class called \"BankAccount\" with attributes like \"account_number\" and \"balance.\" Derive two classes, \"SavingsAccount\" and \"CheckingAccount,\" from \"BankAccount.\" Add specific methods like \"calculate_interest\" for the \"SavingsAccount\" class and \"deduct_fees\" for the \"CheckingAccount\" class.\n",
    "\n",
    "ANSWER\n"
   ]
  },
  {
   "cell_type": "code",
   "execution_count": 41,
   "metadata": {},
   "outputs": [],
   "source": [
    "class BankAccount:\n",
    "    \n",
    "    def __init__(self,name,ac_no,contact,balance=0):\n",
    "        self.name = name\n",
    "        self.ac_no = ac_no\n",
    "        self.contact = contact\n",
    "        self.balance = balance\n",
    "        \n",
    "    def debit(self,debit_ammount):\n",
    "        self.debit_ammount = debit_ammount\n",
    "        if self.balance == 0:\n",
    "            print(\"please maintain a sufficient balance \")\n",
    "        else:\n",
    "            self.balance = self.balance - self.debit_ammount\n",
    "            print(f\"ammount is debited from your ac no {self.ac_no} and ammount is debit {self.debit_ammount} \\naccount balance is {self.balance}\")\n",
    "        \n",
    "    def credit(self,credit_ammount):\n",
    "        self.credit_ammount = credit_ammount\n",
    "        self.balance = self.balance + self.credit_ammount\n",
    "        print(f\"total balace is {self.balance} and credit ammount is {self.credit_ammount}\")\n",
    "        \n",
    "class SavingAccount(BankAccount):\n",
    "    \n",
    "    def interest_rate(self,name,ac_no,contact,balance,credit_ammount):\n",
    "        super().__init__(name,ac_no,contact,balance,)\n",
    "        super().credit(credit_ammount)\n",
    "        print(f\"intrest rate for saving account is 5% as per total balance\")\n",
    "        if self.balance < 1000:\n",
    "            print(\"intrest rate is 2%\")\n",
    "            a = self.balance * 2/100\n",
    "            self.balance += a\n",
    "            print(f\"intrest is on total balance below {self.balance} and intrest is  {a}\")\n",
    "        elif self.balance > 1000 or self.balance < 2000:\n",
    "            print(\"intrest rate is 3%\")\n",
    "            a = self.balance * 3/100\n",
    "            self.balance += a\n",
    "            print(f\"intrest is on total balance below {self.balance} and intrest is  {a}\")\n",
    "        elif self.balance > 2000:\n",
    "            print(\"intrest rate is 5%\")\n",
    "            a = self.balance * 5/100\n",
    "            self.balance += a\n",
    "            print(f\"intrest is on total balance below {self.balance} and intrest is {a} \")\n",
    "            \n"
   ]
  },
  {
   "cell_type": "code",
   "execution_count": 42,
   "metadata": {},
   "outputs": [],
   "source": [
    "b = BankAccount(\"dev\",9671184054,8435343811,10000)"
   ]
  },
  {
   "cell_type": "code",
   "execution_count": 44,
   "metadata": {},
   "outputs": [
    {
     "name": "stdout",
     "output_type": "stream",
     "text": [
      "ammount is debited from your ac no 9671184054 and ammount is debit 500 \n",
      "account balance is 9500\n"
     ]
    }
   ],
   "source": [
    "b.debit(500)\n"
   ]
  },
  {
   "cell_type": "code",
   "execution_count": 45,
   "metadata": {},
   "outputs": [
    {
     "name": "stdout",
     "output_type": "stream",
     "text": [
      "total balace is 14500 and credit ammount is 5000\n"
     ]
    }
   ],
   "source": [
    "b.credit(5000)\n"
   ]
  },
  {
   "cell_type": "code",
   "execution_count": 47,
   "metadata": {},
   "outputs": [
    {
     "name": "stdout",
     "output_type": "stream",
     "text": [
      "ammount is debited from your ac no 9671184054 and ammount is debit 500 \n",
      "account balance is 14000\n"
     ]
    }
   ],
   "source": [
    "b.debit(500)\n"
   ]
  },
  {
   "cell_type": "code",
   "execution_count": 48,
   "metadata": {},
   "outputs": [],
   "source": [
    "s = SavingAccount(\"dev\",85258,8435343811)\n"
   ]
  },
  {
   "cell_type": "code",
   "execution_count": 49,
   "metadata": {},
   "outputs": [
    {
     "name": "stdout",
     "output_type": "stream",
     "text": [
      "total balace is 7000 and credit ammount is 2000\n",
      "intrest rate for saving account is 5% as per total balance\n",
      "intrest rate is 3%\n",
      "intrest is on total balance below 7210.0 and intrest is  210.0\n"
     ]
    }
   ],
   "source": [
    "s.interest_rate(\"dev\",85258,8435343811,5000,2000)\n"
   ]
  },
  {
   "cell_type": "code",
   "execution_count": 50,
   "metadata": {},
   "outputs": [
    {
     "name": "stdout",
     "output_type": "stream",
     "text": [
      "total balace is 7710.0 and credit ammount is 500\n"
     ]
    }
   ],
   "source": [
    "s.credit(500)\n"
   ]
  },
  {
   "cell_type": "code",
   "execution_count": 51,
   "metadata": {},
   "outputs": [
    {
     "name": "stdout",
     "output_type": "stream",
     "text": [
      "ammount is debited from your ac no 85258 and ammount is debit 50 \n",
      "account balance is 7660.0\n"
     ]
    }
   ],
   "source": [
    "s.debit(50)\n"
   ]
  },
  {
   "cell_type": "code",
   "execution_count": 52,
   "metadata": {},
   "outputs": [
    {
     "data": {
      "text/plain": [
       "7660.0"
      ]
     },
     "execution_count": 52,
     "metadata": {},
     "output_type": "execute_result"
    }
   ],
   "source": [
    "s.balance\n"
   ]
  },
  {
   "cell_type": "code",
   "execution_count": null,
   "metadata": {},
   "outputs": [],
   "source": []
  },
  {
   "cell_type": "markdown",
   "metadata": {},
   "source": []
  }
 ],
 "metadata": {
  "kernelspec": {
   "display_name": "Python 3",
   "language": "python",
   "name": "python3"
  },
  "language_info": {
   "codemirror_mode": {
    "name": "ipython",
    "version": 3
   },
   "file_extension": ".py",
   "mimetype": "text/x-python",
   "name": "python",
   "nbconvert_exporter": "python",
   "pygments_lexer": "ipython3",
   "version": "3.9.0"
  }
 },
 "nbformat": 4,
 "nbformat_minor": 2
}
