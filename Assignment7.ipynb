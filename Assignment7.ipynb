{
 "cells": [
  {
   "cell_type": "markdown",
   "id": "39892301-0c11-4ad9-9b10-54c8560cd906",
   "metadata": {},
   "source": [
    "Q.1. Create two int type variables, apply addition, subtraction, division and multiplications\n",
    "and store the results in variables. Then print the data in the following format by calling the\n",
    "variables:\n",
    "    \n",
    "ANSWER"
   ]
  },
  {
   "cell_type": "code",
   "execution_count": 2,
   "id": "2e5ad525-75b9-4d50-b3b0-0a090bfccdf9",
   "metadata": {},
   "outputs": [
    {
     "name": "stdin",
     "output_type": "stream",
     "text": [
      "Enter the first number:  4\n",
      "Enter the second number:  5\n"
     ]
    },
    {
     "name": "stdout",
     "output_type": "stream",
     "text": [
      "The sum of 4 and 5 is 9.\n",
      "The sum of 4 and 5 is -1.\n",
      "The division of 4 and 5 is 20.\n",
      "The sum of 4 and 5 is 0.8.\n"
     ]
    }
   ],
   "source": [
    "# Take input from the user for two numbers\n",
    "num1 = int(input(\"Enter the first number: \"))\n",
    "num2 = int(input(\"Enter the second number: \"))\n",
    "\n",
    "\n",
    "addition = num1 + num2\n",
    "\n",
    "# Print the result\n",
    "print(f\"The sum of {num1} and {num2} is {addition}.\")\n",
    "sub = num1 - num2\n",
    "\n",
    "# Print the result\n",
    "print(f\"The sum of {num1} and {num2} is {sub}.\")\n",
    "mul = num1 *num2\n",
    "\n",
    "# Print the result\n",
    "print(f\"The division of {num1} and {num2} is {mul}.\")\n",
    "division = num1 / num2\n",
    "\n",
    "# Print the result\n",
    "print(f\"The sum of {num1} and {num2} is {division}.\")\n",
    "\n"
   ]
  },
  {
   "cell_type": "markdown",
   "id": "2c6cd949-8918-4ef1-af13-c98fbbb0f88c",
   "metadata": {},
   "source": [
    "Q.2. What is the difference between the following operators:\n",
    "(i) ‘/’ & ‘//’\n",
    "(ii) ‘**’ & ‘^’\n",
    "\n",
    "ANSWER\n",
    "\n",
    "Difference between the ‘// ‘ and ‘/‘ in Python.\n",
    "Normal Division : Divides the value on the left by the one on the right. Notice that division results in a floating-point value.\n"
   ]
  },
  {
   "cell_type": "code",
   "execution_count": 4,
   "id": "462ddf0d-bcc0-48b6-9409-9f68f4074c74",
   "metadata": {},
   "outputs": [
    {
     "name": "stdout",
     "output_type": "stream",
     "text": [
      "3.3333333333333335\n"
     ]
    }
   ],
   "source": [
    "\n",
    "divide=10/3 #Normal Division\n",
    "print(divide)"
   ]
  },
  {
   "cell_type": "markdown",
   "id": "c43f60aa-41e3-48a8-bf05-52733d9eb13b",
   "metadata": {},
   "source": [
    "Floor Division : Divides and returns the integer value of the quotient. It neglects the digits after the decimal.\n"
   ]
  },
  {
   "cell_type": "code",
   "execution_count": 5,
   "id": "c51c10c7-814b-4bef-ae0a-c29c01e1f73b",
   "metadata": {},
   "outputs": [
    {
     "name": "stdout",
     "output_type": "stream",
     "text": [
      "3\n"
     ]
    }
   ],
   "source": [
    "divide=10//3 #Floor Division\n",
    "print(divide)"
   ]
  },
  {
   "cell_type": "markdown",
   "id": "6749aa0c-d613-4e78-8b92-1f7240b7f98f",
   "metadata": {},
   "source": [
    "(ii) ‘**’ & ‘^’\n",
    "\n",
    "EXPONENT operator  ** = The operator that can be used to perform the exponent arithmetic in Python is ** ."
   ]
  },
  {
   "cell_type": "code",
   "execution_count": 9,
   "id": "6914a1b4-9da6-42be-bf69-1b638f28a441",
   "metadata": {},
   "outputs": [
    {
     "name": "stdout",
     "output_type": "stream",
     "text": [
      "32\n"
     ]
    }
   ],
   "source": [
    "a = 2\n",
    "b = 5\n",
    "print(a ** b) # Exponent,"
   ]
  },
  {
   "cell_type": "markdown",
   "id": "f7003c01-efbf-489d-8991-f2f18b7f6676",
   "metadata": {},
   "source": [
    "XOR Operator ^: Compares each bit of the first operand with the corresponding bit of the second operand. If one of the bits is 1 (but not both), the corresponding result bit is set to 1. Otherwise, the result bit is set to 0."
   ]
  },
  {
   "cell_type": "code",
   "execution_count": 8,
   "id": "6950e5dd-821b-4b48-b177-27f6200f6d4c",
   "metadata": {},
   "outputs": [
    {
     "name": "stdout",
     "output_type": "stream",
     "text": [
      "14\n"
     ]
    }
   ],
   "source": [
    "a = 10       # in binary: 1010\n",
    "b = 4        # in binary: 0100\n",
    "result = a ^ b  # result is 14 (in binary: 1110)\n",
    "print(result)"
   ]
  },
  {
   "cell_type": "markdown",
   "id": "81436e8b-1d06-456a-847a-222d629dabb1",
   "metadata": {},
   "source": [
    "Q.3. List the logical operators.\n",
    "\n",
    "ANSWER\n",
    "\n",
    "and = Returns True if both statements are true."
   ]
  },
  {
   "cell_type": "code",
   "execution_count": 2,
   "id": "ede819d6-5803-4013-be13-4be859d3f256",
   "metadata": {},
   "outputs": [
    {
     "name": "stdout",
     "output_type": "stream",
     "text": [
      "True\n"
     ]
    }
   ],
   "source": [
    "x = 5\n",
    "\n",
    "print(x > 3 and x < 10)"
   ]
  },
  {
   "cell_type": "markdown",
   "id": "c79a4a0c-c8a9-4d2d-84b0-73501f95d53c",
   "metadata": {},
   "source": [
    "or = Returns True if one of the statements is true"
   ]
  },
  {
   "cell_type": "code",
   "execution_count": 3,
   "id": "b08c056d-035f-4281-a681-bb269d948d8a",
   "metadata": {},
   "outputs": [
    {
     "name": "stdout",
     "output_type": "stream",
     "text": [
      "True\n"
     ]
    }
   ],
   "source": [
    "x = 5\n",
    "\n",
    "print(x > 3 or x < 4)\n"
   ]
  },
  {
   "cell_type": "markdown",
   "id": "2e86fb4f-9f94-406c-a7fb-418e55d2e3ca",
   "metadata": {},
   "source": [
    "not\t = Reverse the result, returns False if the result is true"
   ]
  },
  {
   "cell_type": "code",
   "execution_count": 4,
   "id": "d4edcaa1-96f9-4a35-a6ab-a801d227d64e",
   "metadata": {},
   "outputs": [
    {
     "name": "stdout",
     "output_type": "stream",
     "text": [
      "False\n"
     ]
    }
   ],
   "source": [
    "x = 5\n",
    "\n",
    "print(not(x > 3 and x < 10))"
   ]
  },
  {
   "cell_type": "markdown",
   "id": "ced267d4-0470-4663-8d5a-b7883039e9d9",
   "metadata": {},
   "source": [
    "Q.4. Explain right shift operator and left shift operator with examples.\n",
    "\n",
    "ANSWER\n",
    "\n",
    "Right Shift Operator >>: Shifts the bits of the number to the right by the number of bits specified. Each shift to the right corresponds to dividing the number by 2."
   ]
  },
  {
   "cell_type": "code",
   "execution_count": 5,
   "id": "3d5c7c4f-1d48-4ce5-9a4a-7f4f0e76b844",
   "metadata": {},
   "outputs": [
    {
     "name": "stdout",
     "output_type": "stream",
     "text": [
      "2\n"
     ]
    }
   ],
   "source": [
    "# FOR EXAMPLE\n",
    "a = 10        # in binary: 1010\n",
    "result = a >> 2  # result is 2 (in binary: 0010)\n",
    "print(result)"
   ]
  },
  {
   "cell_type": "markdown",
   "id": "de0d79ad-d007-4d53-8df3-88ef5b3a80c5",
   "metadata": {},
   "source": [
    "Left Shift Operator <<: Shifts the bits of the number to the left by the number of bits specified. Each shift to the left corresponds to multiplying the number by 2."
   ]
  },
  {
   "cell_type": "code",
   "execution_count": 6,
   "id": "bf107a1f-206a-45ee-805a-3a903c634312",
   "metadata": {},
   "outputs": [
    {
     "name": "stdout",
     "output_type": "stream",
     "text": [
      "40\n"
     ]
    }
   ],
   "source": [
    "# FOR EXAMPLE\n",
    "a = 10        # in binary: 1010\n",
    "result = a << 2  # result is 40 (in binary: 101000)\n",
    "print(result)"
   ]
  },
  {
   "cell_type": "markdown",
   "id": "ff12212b-f81d-48a6-a0f6-07c03253d0ab",
   "metadata": {},
   "source": [
    "Q.5. Create a list containing int type data of length 15. Then write a code to check if 10 is\n",
    "present in the list or not.\n",
    "\n",
    "ANSWER\n"
   ]
  },
  {
   "cell_type": "code",
   "execution_count": 7,
   "id": "557b2516-9ccc-4469-afeb-279334f90712",
   "metadata": {},
   "outputs": [
    {
     "name": "stdout",
     "output_type": "stream",
     "text": [
      "True\n",
      "False\n"
     ]
    }
   ],
   "source": [
    "list = [1, 2, 3, 4, 5 , 6 , 7 , 8 , 9 , 10 , 11 , 12 , 13 , 15 , ]\n",
    "print(10 in list)    # Output: True\n",
    "print(10 not in list)"
   ]
  },
  {
   "cell_type": "code",
   "execution_count": null,
   "id": "4a94abd9-0f9e-44ba-a8bb-943c5cabd063",
   "metadata": {},
   "outputs": [],
   "source": []
  }
 ],
 "metadata": {
  "kernelspec": {
   "display_name": "Python 3 (ipykernel)",
   "language": "python",
   "name": "python3"
  },
  "language_info": {
   "codemirror_mode": {
    "name": "ipython",
    "version": 3
   },
   "file_extension": ".py",
   "mimetype": "text/x-python",
   "name": "python",
   "nbconvert_exporter": "python",
   "pygments_lexer": "ipython3",
   "version": "3.10.6"
  }
 },
 "nbformat": 4,
 "nbformat_minor": 5
}
