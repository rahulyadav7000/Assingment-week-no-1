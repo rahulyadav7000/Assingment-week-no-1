{
 "cells": [
  {
   "cell_type": "markdown",
   "id": "cd607814-bc02-499d-96ac-c0cfa2394266",
   "metadata": {},
   "source": [
    "\n",
    "Q1. What are keywords in python? Using the keyword library, print all the python keywords.\n",
    "\n",
    "ANSWER\n",
    "\n",
    "Keywords in Python are reserved words that cannot be used as ordinary identifiers. They are used to define the syntax and structure of the Python language"
   ]
  },
  {
   "cell_type": "code",
   "execution_count": 1,
   "id": "3f39761b-56c6-4e7c-873e-ddba6233064b",
   "metadata": {},
   "outputs": [
    {
     "name": "stdout",
     "output_type": "stream",
     "text": [
      "['False', 'None', 'True', 'and', 'as', 'assert', 'async', 'await', 'break', 'class', 'continue', 'def', 'del', 'elif', 'else', 'except', 'finally', 'for', 'from', 'global', 'if', 'import', 'in', 'is', 'lambda', 'nonlocal', 'not', 'or', 'pass', 'raise', 'return', 'try', 'while', 'with', 'yield']\n"
     ]
    }
   ],
   "source": [
    "# load package\n",
    "import keyword\n",
    "\n",
    "# display all keywords\n",
    "print(keyword.kwlist)"
   ]
  },
  {
   "cell_type": "markdown",
   "id": "5b74d87f-caed-406e-814c-bdcc78a01a6e",
   "metadata": {},
   "source": [
    "Q.2. What are the rules to create variables in python?\n",
    "\n",
    "ANSWER\n",
    "\n",
    "Name your variables based on the terms of the subject area, so that the variable name clearly describes its purpose.\n",
    "Create variable names by deleting spaces that separate the words. ...\n",
    "Do not begin variable names with an underscore.\n",
    "Do not use variable names that consist of a single character."
   ]
  },
  {
   "cell_type": "markdown",
   "id": "f045291b-014f-4227-b48d-2e87f56ab95c",
   "metadata": {},
   "source": [
    "Q.3. What are the standards and conventions followed for the nomenclature of variables in\n",
    "python to improve code readability and maintainability?\n",
    "\n",
    "ANSWER\n",
    "\n",
    "Use grammatically correct variable names, the class name should start with an uppercase and must follow camelCase convention If more than two words are to be used. "
   ]
  },
  {
   "cell_type": "markdown",
   "id": "19f5585c-d9c4-4e81-b992-d7d11dde7fe8",
   "metadata": {},
   "source": [
    "Q.4. What will happen if a keyword is used as a variable name?\n",
    "\n",
    "ANSWER\n",
    "\n",
    "Keywords are the words in programming language which have a special meaning decided the lanuage. So we cannot use them as a variable as we cannot assign any value to them."
   ]
  },
  {
   "cell_type": "markdown",
   "id": "78bc896c-ece4-44d4-b857-69252338297f",
   "metadata": {},
   "source": [
    "Q.5. For what purpose def keyword is used?\n",
    "\n",
    "ANSWER\n",
    "\n",
    "The def keyword is used to create, (or define) a function.\n"
   ]
  },
  {
   "cell_type": "markdown",
   "id": "06190fb4-68d7-490f-8f36-dcd33e2ae8b8",
   "metadata": {},
   "source": [
    "Q.6. What is the operation of this special character ‘\\’?\n",
    "\n",
    "ANSWER\n",
    "\n",
    "Escape sequences allow you to include special characters in strings. To do this, simply add a backslash ( \\ ) before the character you want to escape."
   ]
  },
  {
   "cell_type": "code",
   "execution_count": 25,
   "id": "8f69c197-c553-42f6-aa61-48ba74612d5c",
   "metadata": {},
   "outputs": [
    {
     "name": "stdout",
     "output_type": "stream",
     "text": [
      "It's alright.\n"
     ]
    }
   ],
   "source": [
    "# FOR EXAMPLE\n",
    "txt = 'It\\'s alright.'\n",
    "print(txt) \n"
   ]
  },
  {
   "cell_type": "markdown",
   "id": "b25221a0-5c2a-4f77-a50a-46b386f9c08d",
   "metadata": {},
   "source": [
    "Q.7. Give an example of the following conditions:\n",
    "(i) Homogeneous list\n",
    "(ii) Heterogeneous set\n",
    "(iii) Homogeneous tuple\n",
    "\n",
    "ANSWER"
   ]
  },
  {
   "cell_type": "code",
   "execution_count": 3,
   "id": "471d2f9d-8c05-4c64-a142-77414e50b03d",
   "metadata": {},
   "outputs": [
    {
     "name": "stdout",
     "output_type": "stream",
     "text": [
      "[1, 2, 3, 4]\n"
     ]
    }
   ],
   "source": [
    "# HOMOGENOUS LIST\n",
    "list =[1,2,3,4]\n",
    "print(list) "
   ]
  },
  {
   "cell_type": "code",
   "execution_count": 8,
   "id": "39c64dfc-d873-46e7-aa5b-3d9cbd5358e9",
   "metadata": {},
   "outputs": [
    {
     "name": "stdout",
     "output_type": "stream",
     "text": [
      "{'banana', 'green', 25, 'red', 'blue'}\n"
     ]
    },
    {
     "data": {
      "text/plain": [
       "set"
      ]
     },
     "execution_count": 8,
     "metadata": {},
     "output_type": "execute_result"
    }
   ],
   "source": [
    "# HETEROGENOUS SET\n",
    "rol = {\"red\", \"green\", \"blue\",\"banana\" ,25}\n",
    "print(rol)\n",
    "type(rol)"
   ]
  },
  {
   "cell_type": "code",
   "execution_count": 10,
   "id": "b4e2b065-9171-467e-b38f-d050e27fdf7b",
   "metadata": {},
   "outputs": [
    {
     "name": "stdout",
     "output_type": "stream",
     "text": [
      "(1, 2, 3, 4, 5)\n"
     ]
    },
    {
     "data": {
      "text/plain": [
       "tuple"
      ]
     },
     "execution_count": 10,
     "metadata": {},
     "output_type": "execute_result"
    }
   ],
   "source": [
    "tuple =(1 ,2 ,3 ,4 ,5)\n",
    "print(tuple)\n",
    "type(tuple)"
   ]
  },
  {
   "cell_type": "markdown",
   "id": "5c418dbb-e245-4e55-85e4-b190a2b5afc5",
   "metadata": {},
   "source": [
    "Q.8. Explain the mutable and immutable data types with proper explanation & examples.\n",
    "\n",
    "ANSWER\n",
    "\n",
    "Mutable data types are can be changed after it is created\n",
    "Foe example -  List, Set, Dictionary"
   ]
  },
  {
   "cell_type": "code",
   "execution_count": 13,
   "id": "b5465c4a-8de9-44c1-a729-0d7aaa2db64f",
   "metadata": {},
   "outputs": [
    {
     "name": "stdout",
     "output_type": "stream",
     "text": [
      "[1, 2, 3, 4, 5]\n",
      "List after appending a value =  [1, 2, 3, 4, 5, 10]\n",
      "[1, 2, 3, 4, 5, 10, 6, 11, 23]\n"
     ]
    }
   ],
   "source": [
    "# MUTABLE\n",
    "my_list = [1,2,3,4,5]\n",
    "print(my_list)\n",
    "\n",
    "# using append operation in our list\n",
    "my_list.append(10)\n",
    "# printing our list after the operation\n",
    "print(\"List after appending a value = \",my_list)\n",
    "\n",
    "# using extend operation in our list\n",
    "my_list.extend([6,11,23])\n",
    "print(my_list)"
   ]
  },
  {
   "cell_type": "markdown",
   "id": "aedc650a-8c17-4732-a749-b9b68663a3ef",
   "metadata": {},
   "source": [
    "An immutable data types cannot be changed after it is created are immutabl ewhich means their elements cannot be changed (no addition, modification, or deletion) after they are created.\n",
    "For example - tuples, int, float, bool, frozenset"
   ]
  },
  {
   "cell_type": "code",
   "execution_count": 18,
   "id": "0238eded-532d-4a6d-b225-c3dae401d62c",
   "metadata": {},
   "outputs": [
    {
     "name": "stdout",
     "output_type": "stream",
     "text": [
      "(1, 2, 3, 4, 5)\n"
     ]
    },
    {
     "ename": "AttributeError",
     "evalue": "'tuple' object has no attribute 'extend'",
     "output_type": "error",
     "traceback": [
      "\u001b[0;31m---------------------------------------------------------------------------\u001b[0m",
      "\u001b[0;31mAttributeError\u001b[0m                            Traceback (most recent call last)",
      "Cell \u001b[0;32mIn [18], line 5\u001b[0m\n\u001b[1;32m      2\u001b[0m \u001b[38;5;28mprint\u001b[39m(\u001b[38;5;28mtuple\u001b[39m)\n\u001b[1;32m      3\u001b[0m \u001b[38;5;28mtype\u001b[39m(\u001b[38;5;28mtuple\u001b[39m)\n\u001b[0;32m----> 5\u001b[0m \u001b[38;5;28;43mtuple\u001b[39;49m\u001b[38;5;241;43m.\u001b[39;49m\u001b[43mextend\u001b[49m(\u001b[38;5;241m6\u001b[39m)\n\u001b[1;32m      6\u001b[0m \u001b[38;5;28mprint\u001b[39m(\u001b[38;5;28mtuple\u001b[39m)\n",
      "\u001b[0;31mAttributeError\u001b[0m: 'tuple' object has no attribute 'extend'"
     ]
    }
   ],
   "source": [
    "tuple =(1 ,2 ,3 ,4 ,5)\n",
    "print(tuple)\n",
    "type(tuple)\n",
    "\n",
    "# lET TRY TO ADD AN OBJECT TO A TUPLE \n",
    "tuple.append(6)\n",
    "print(tuple)"
   ]
  },
  {
   "cell_type": "markdown",
   "id": "d71c5f01-31f3-401f-b74b-c4979635b59b",
   "metadata": {},
   "source": [
    "Q.9. Write a code to create the given structure using only for loop.\n",
    "    *\n",
    "   ***\n",
    "  *****\n",
    " *******\n",
    "*********\n",
    "\n",
    "ANSWER"
   ]
  },
  {
   "cell_type": "code",
   "execution_count": 24,
   "id": "ca56f42a-506a-498e-bd80-0e3a153fb7ab",
   "metadata": {},
   "outputs": [
    {
     "name": "stdout",
     "output_type": "stream",
     "text": [
      "     *\n",
      "    ***\n",
      "   *****\n",
      "  *******\n",
      " *********\n"
     ]
    }
   ],
   "source": [
    "\n",
    "n=5\n",
    "for i in range(n):\n",
    "    for j in range(i ,n):\n",
    "        print(\" \", end=\"\")\n",
    "    for j in range(i):\n",
    "        print(\"*\", end=\"\")\n",
    "    for j in range (i + 1):\n",
    "        print (\"*\",end=\"\")\n",
    "    print()\n"
   ]
  },
  {
   "cell_type": "markdown",
   "id": "c1935a65-0a6c-453a-97dc-064a7d571044",
   "metadata": {},
   "source": [
    "Q.10. Write a code to create the given structure using while loop.\n",
    "|||||||||\n",
    " |||||||\n",
    "  |||||\n",
    "   |||\n",
    "    |\n",
    "    \n",
    "ANSWER"
   ]
  },
  {
   "cell_type": "code",
   "execution_count": 21,
   "id": "cd9dee48-085b-4293-8996-2034b42603c7",
   "metadata": {},
   "outputs": [
    {
     "name": "stdout",
     "output_type": "stream",
     "text": [
      "|||||||||\n",
      " ||||||| \n",
      "  |||||  \n",
      "   |||   \n",
      "    |    \n"
     ]
    }
   ],
   "source": [
    "\n",
    "n = 9\n",
    "i= n\n",
    "while i > 0:\n",
    "    print(f\"{i*'|':^{n}}\")\n",
    "    i -=2"
   ]
  },
  {
   "cell_type": "code",
   "execution_count": null,
   "id": "074f1381-7273-41b4-a76e-ed478a6c2163",
   "metadata": {},
   "outputs": [],
   "source": []
  }
 ],
 "metadata": {
  "kernelspec": {
   "display_name": "Python 3 (ipykernel)",
   "language": "python",
   "name": "python3"
  },
  "language_info": {
   "codemirror_mode": {
    "name": "ipython",
    "version": 3
   },
   "file_extension": ".py",
   "mimetype": "text/x-python",
   "name": "python",
   "nbconvert_exporter": "python",
   "pygments_lexer": "ipython3",
   "version": "3.10.6"
  }
 },
 "nbformat": 4,
 "nbformat_minor": 5
}
