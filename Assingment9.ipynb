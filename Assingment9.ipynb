{
 "cells": [
  {
   "cell_type": "markdown",
   "id": "d6bcdcc7-85f9-4301-acce-70b8122fbb98",
   "metadata": {},
   "source": [
    "1. What is a lambda function in Python, and how does it differ from a regular function?\n",
    "\n",
    "ANSWER\n",
    "\n",
    "A lambda function in Python is an anonymous, small function defined using the lambda keyword with a single expression. It lacks a formal name, can have any number of arguments, and returns the expression's result automatically. Regular functions, defined with def, can have multiple expressions and a named identifier."
   ]
  },
  {
   "cell_type": "markdown",
   "id": "48282411-0918-453d-aa8c-1d88684c7d2c",
   "metadata": {},
   "source": [
    "2. Can a lambda function in Python have multiple arguments? If yes, how can you define and use\n",
    "them?\n",
    "\n",
    "ANSWER\n",
    "\n",
    "Yes, a lambda function in Python can have multiple arguments. To define one, use the lambda keyword, followed by the arguments separated by commas, a colon, and the expression to be evaluated. "
   ]
  },
  {
   "cell_type": "code",
   "execution_count": 8,
   "id": "05f5a61b-3127-4df4-be20-379a6519c3aa",
   "metadata": {},
   "outputs": [
    {
     "name": "stdout",
     "output_type": "stream",
     "text": [
      "16\n"
     ]
    }
   ],
   "source": [
    "add_three_numbers = lambda x, y, z: x + y + z\n",
    "result = add_three_numbers(5, 3, 8)\n",
    "print(result)"
   ]
  },
  {
   "cell_type": "markdown",
   "id": "1e03d519-2a6e-4cc5-acc6-94f051a61a19",
   "metadata": {},
   "source": [
    "3. How are lambda functions typically used in Python? Provide an example use case.\n",
    "\n",
    "ANSWER\n",
    "\n",
    "Lambda functions in Python are commonly used as arguments to higher-order functions like map(), filter(), and sorted(). They provide a concise and quick way to define small functions for temporary use. For example, when using map() to apply a function to each element of a list:"
   ]
  },
  {
   "cell_type": "code",
   "execution_count": 9,
   "id": "38857257-ebe6-4df1-9504-286f05c5cc50",
   "metadata": {},
   "outputs": [
    {
     "name": "stdout",
     "output_type": "stream",
     "text": [
      "25\n"
     ]
    }
   ],
   "source": [
    "square = lambda x: x ** 2\n",
    "print(square(5))"
   ]
  },
  {
   "cell_type": "markdown",
   "id": "150e3ab6-f747-4e13-99f5-2ab8ffd88fb6",
   "metadata": {},
   "source": [
    "4. What are the advantages and limitations of lambda functions compared to regular functions in\n",
    "Python?\n",
    "\n",
    "ANSWER\n",
    "\n",
    "\n",
    "Advantages of lambda functions:\n",
    "\n",
    "> Conciseness: Lambda functions allow you to write short, one-line functions without the need for a formal function name.\n",
    "> Readability: They are useful for simple, straightforward operations, making the code more compact and easier to understand.\n",
    "> Quick Usage: Lambda functions are perfect for quick, temporary functions that don't require a full function definition.\n",
    "\n",
    "Limitations of lambda functions:\n",
    "\n",
    "> Single expression: Lambda functions can only contain a single expression, limiting their complexity.\n",
    "> No statements: Unlike regular functions, lambda functions cannot include statements like if, while, or for.\n",
    "> Limited functionality: Due to their simplicity, lambda functions are not suitable for complex tasks or functions requiring multiple expressions or custom behavior.\n",
    "> Lack of name: As lambda functions are anonymous, debugging can be challenging when encountering errors."
   ]
  },
  {
   "cell_type": "markdown",
   "id": "c0d9c655-2038-4882-92af-d1e249e613e8",
   "metadata": {},
   "source": [
    "5. Are lambda functions in Python able to access variables defined outside of their own scope? Explain with an example.\n",
    "\n",
    "ANSWER\n",
    "\n",
    "Yes, lambda functions in Python can access variables defined outside of their own scope. This ability is due to the concept of \"lexical scoping\" or \"closure\" in Python, which allows lambda functions to capture variables from the enclosing scope."
   ]
  },
  {
   "cell_type": "code",
   "execution_count": 1,
   "id": "75480cfa-8a5f-442a-b820-aa80560c485b",
   "metadata": {},
   "outputs": [
    {
     "name": "stdout",
     "output_type": "stream",
     "text": [
      "15\n"
     ]
    }
   ],
   "source": [
    "def outer_function(x):\n",
    "    # Define a lambda function within the outer function\n",
    "    inner_function = lambda y: x + y\n",
    "    return inner_function\n",
    "\n",
    "# Create a closure by calling the outer function and passing an argument\n",
    "closure = outer_function(10)\n",
    "\n",
    "# Use the closure (lambda function) with an argument\n",
    "result = closure(5)\n",
    "\n",
    "print(result)  # Output will be 15 (10 + 5)"
   ]
  },
  {
   "cell_type": "markdown",
   "id": "bd3ff3ed-4584-421b-96cd-f4acc8903a6d",
   "metadata": {},
   "source": [
    "6. Write a lambda function to calculate the square of a given number.\n",
    "\n",
    "ANSWER\n"
   ]
  },
  {
   "cell_type": "code",
   "execution_count": 2,
   "id": "d19ccd72-f812-49f4-abee-fd38e1db39f6",
   "metadata": {},
   "outputs": [
    {
     "name": "stdout",
     "output_type": "stream",
     "text": [
      "25\n"
     ]
    }
   ],
   "source": [
    "square = lambda x: x ** 2\n",
    "print(square(5))"
   ]
  },
  {
   "cell_type": "markdown",
   "id": "cd4c6da8-bcff-43c9-825f-a8a14096a63d",
   "metadata": {},
   "source": [
    "7. Create a lambda function to find the maximum value in a list of integers.\n",
    "\n",
    "ANSWER\n"
   ]
  },
  {
   "cell_type": "code",
   "execution_count": 3,
   "id": "2f0389ec-8c57-4265-a5cb-c683ef40a16d",
   "metadata": {},
   "outputs": [],
   "source": [
    "max_value = lambda lst: max(lst)"
   ]
  },
  {
   "cell_type": "code",
   "execution_count": 4,
   "id": "d92c6a0a-1da8-42a6-b970-c8bc64605b6a",
   "metadata": {},
   "outputs": [
    {
     "name": "stdout",
     "output_type": "stream",
     "text": [
      "9\n"
     ]
    }
   ],
   "source": [
    "numbers = [1,2,3,4,5,6,7,8,9]\n",
    "result = max_value(numbers)\n",
    "print(result)  "
   ]
  },
  {
   "cell_type": "markdown",
   "id": "12e4cd60-56e3-4ef9-a412-78a9efb4b526",
   "metadata": {},
   "source": [
    "8. Implement a lambda function to filter out all the even numbers from a list of integers.\n",
    "\n",
    "ANSWER\n"
   ]
  },
  {
   "cell_type": "code",
   "execution_count": 5,
   "id": "e023b31d-79b0-45ee-919b-3e611a24744b",
   "metadata": {},
   "outputs": [],
   "source": [
    "filter_even = lambda lst: list(filter(lambda x: x % 2 == 0, lst))"
   ]
  },
  {
   "cell_type": "code",
   "execution_count": 6,
   "id": "32821139-8e18-40df-b09c-702042f0583b",
   "metadata": {},
   "outputs": [
    {
     "name": "stdout",
     "output_type": "stream",
     "text": [
      "[2, 4, 6, 8, 10]\n"
     ]
    }
   ],
   "source": [
    "numbers = [1, 2, 3, 4, 5, 6, 7, 8, 9, 10]\n",
    "even_numbers = filter_even(numbers)\n",
    "print(even_numbers)"
   ]
  },
  {
   "cell_type": "markdown",
   "id": "fe41c76d-0972-40f3-b10b-dcd6b8e80c80",
   "metadata": {},
   "source": [
    "9. Write a lambda function to sort a list of strings in ascending order based on the length of each string.\n",
    "\n",
    "ANSWER\n"
   ]
  },
  {
   "cell_type": "code",
   "execution_count": 7,
   "id": "8c71118f-8497-4758-9d68-96c538f67110",
   "metadata": {},
   "outputs": [],
   "source": [
    "sort_by_length = lambda lst: sorted(lst, key=lambda x: len(x))"
   ]
  },
  {
   "cell_type": "code",
   "execution_count": 8,
   "id": "c3d8c910-58f1-44ab-8b81-000e2adafad2",
   "metadata": {},
   "outputs": [
    {
     "name": "stdout",
     "output_type": "stream",
     "text": [
      "['kiwi', 'apple', 'grape', 'banana', 'orange']\n"
     ]
    }
   ],
   "source": [
    "strings = [\"apple\", \"banana\", \"orange\", \"kiwi\", \"grape\"]\n",
    "sorted_strings = sort_by_length(strings)\n",
    "print(sorted_strings)"
   ]
  },
  {
   "cell_type": "markdown",
   "id": "dfe6ec42-7e07-4eab-93da-27a98e69644b",
   "metadata": {},
   "source": [
    "10. Create a lambda function that takes two lists as input and returns a new list containing the common elements between the two lists.\n",
    "\n",
    "ANSWER\n"
   ]
  },
  {
   "cell_type": "code",
   "execution_count": 9,
   "id": "3561674a-4edc-408b-9d08-4f0763fad924",
   "metadata": {},
   "outputs": [],
   "source": [
    "find_common_elements = lambda list1, list2: list(filter(lambda x: x in list1, list2))\n"
   ]
  },
  {
   "cell_type": "code",
   "execution_count": 10,
   "id": "067cbb64-d3ec-440b-b315-ffd928a6f127",
   "metadata": {},
   "outputs": [
    {
     "name": "stdout",
     "output_type": "stream",
     "text": [
      "[3, 4, 5]\n"
     ]
    }
   ],
   "source": [
    "list1 = [1, 2, 3, 4, 5]\n",
    "list2 = [3, 4, 5, 6, 7]\n",
    "common_elements = find_common_elements(list1, list2)\n",
    "print(common_elements)"
   ]
  },
  {
   "cell_type": "markdown",
   "id": "73797057-db84-4597-80b2-93dbea24c15e",
   "metadata": {},
   "source": [
    "11. Write a recursive function to calculate the factorial of a given positive integer.\n",
    "\n",
    "ANSWER\n"
   ]
  },
  {
   "cell_type": "code",
   "execution_count": 13,
   "id": "b1481b54-6158-4060-9aae-944b40ec11a3",
   "metadata": {},
   "outputs": [],
   "source": [
    "def factorial(n):\n",
    "    # Base case: 1! = 1\n",
    "    if n == 1:\n",
    "        return 1\n",
    "    # Recursive case: n! = n * (n-1)!\n",
    "    else:\n",
    "        return n * factorial(n-1)"
   ]
  },
  {
   "cell_type": "code",
   "execution_count": 14,
   "id": "47c86637-6405-4594-b09d-da48581fee99",
   "metadata": {},
   "outputs": [
    {
     "data": {
      "text/plain": [
       "120"
      ]
     },
     "execution_count": 14,
     "metadata": {},
     "output_type": "execute_result"
    }
   ],
   "source": [
    "factorial(5)"
   ]
  },
  {
   "cell_type": "markdown",
   "id": "2a589085-13e6-4544-b8b5-aaf1033aadb2",
   "metadata": {},
   "source": [
    "12. Implement a recursive function to compute the nth Fibonacci number.\n",
    "\n",
    "ANSWER\n"
   ]
  },
  {
   "cell_type": "code",
   "execution_count": 15,
   "id": "0d45c318-cadf-4775-b625-693af9f6b708",
   "metadata": {},
   "outputs": [],
   "source": [
    "def fibonacci(n):\n",
    "    if n <= 0:\n",
    "        raise ValueError(\"n must be a positive integer.\")\n",
    "    elif n == 1:\n",
    "        return 0\n",
    "    elif n == 2:\n",
    "        return 1\n",
    "    else:\n",
    "        return fibonacci(n - 1) + fibonacci(n - 2)"
   ]
  },
  {
   "cell_type": "code",
   "execution_count": 19,
   "id": "c79e2875-4732-4a8e-95ff-1130f171719c",
   "metadata": {},
   "outputs": [
    {
     "data": {
      "text/plain": [
       "13"
      ]
     },
     "execution_count": 19,
     "metadata": {},
     "output_type": "execute_result"
    }
   ],
   "source": [
    "fibonacci(8)\n"
   ]
  },
  {
   "cell_type": "markdown",
   "id": "68e1aa4c-1f91-4a0e-9660-63799b71e229",
   "metadata": {},
   "source": [
    "13. Create a recursive function to find the sum of all the elements in a given list.\n",
    "\n",
    "ANSWER\n"
   ]
  },
  {
   "cell_type": "code",
   "execution_count": 20,
   "id": "e01146cc-3c44-438a-8e73-ea53863e7af5",
   "metadata": {},
   "outputs": [],
   "source": [
    "def recursive_sum(lst):\n",
    "    if not lst:\n",
    "        return 0\n",
    "    else:\n",
    "        return lst[0] + recursive_sum(lst[1:])"
   ]
  },
  {
   "cell_type": "code",
   "execution_count": 21,
   "id": "e9d6018f-65bf-494b-89b6-2b22864385d3",
   "metadata": {},
   "outputs": [
    {
     "name": "stdout",
     "output_type": "stream",
     "text": [
      "15\n"
     ]
    }
   ],
   "source": [
    "numbers = [1, 2, 3, 4, 5]\n",
    "result = recursive_sum(numbers)\n",
    "print(result)"
   ]
  },
  {
   "cell_type": "markdown",
   "id": "e7d59b71-0a68-4e8c-8d1a-b4f814d1d328",
   "metadata": {},
   "source": [
    "14. Write a recursive function to determine whether a given string is a palindrome.\n",
    "\n",
    "ANSWER\n"
   ]
  },
  {
   "cell_type": "code",
   "execution_count": 23,
   "id": "39eb9efb-458c-4cfe-912d-4afcf2204f7a",
   "metadata": {},
   "outputs": [],
   "source": [
    "def palindrome(s):\n",
    "    if len(s) <= 1:\n",
    "        return True\n",
    "    elif s[0] != s[-1]:\n",
    "        return False\n",
    "    else:\n",
    "        return palindrome(s[1:-1])"
   ]
  },
  {
   "cell_type": "code",
   "execution_count": 28,
   "id": "3bdcb625-2224-40e3-a375-7ae03dd69948",
   "metadata": {},
   "outputs": [
    {
     "name": "stdout",
     "output_type": "stream",
     "text": [
      "True\n",
      "False\n"
     ]
    }
   ],
   "source": [
    "string1 = \"civic\"\n",
    "string2 = \"hello\"\n",
    "\n",
    "print(palindrome(string1)) \n",
    "print(palindrome(string2))"
   ]
  },
  {
   "cell_type": "markdown",
   "id": "1d36a896-3516-4d18-8d55-7e3cb3e0ed69",
   "metadata": {},
   "source": [
    "15. Implement a recursive function to find the greatest common divisor (GCD) of two positive integers.\n",
    "\n",
    "ANSWER\n"
   ]
  },
  {
   "cell_type": "code",
   "execution_count": null,
   "id": "282bfff9-1e9c-4e23-a6ff-86063c2a28e4",
   "metadata": {},
   "outputs": [],
   "source": []
  }
 ],
 "metadata": {
  "kernelspec": {
   "display_name": "Python 3 (ipykernel)",
   "language": "python",
   "name": "python3"
  },
  "language_info": {
   "codemirror_mode": {
    "name": "ipython",
    "version": 3
   },
   "file_extension": ".py",
   "mimetype": "text/x-python",
   "name": "python",
   "nbconvert_exporter": "python",
   "pygments_lexer": "ipython3",
   "version": "3.10.6"
  }
 },
 "nbformat": 4,
 "nbformat_minor": 5
}
