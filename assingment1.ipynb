{
 "cells": [
  {
   "cell_type": "markdown",
   "id": "501275dd-f8d9-4f07-8b96-b4755750d75e",
   "metadata": {},
   "source": [
    "1. In the below elements which of them are values or an expression? eg:- values can be\n",
    "integer or string and expressions will be mathematical operators.\n",
    "ANSWER\n",
    "*      = Expression\n",
    "-87.8  = Values\n",
    "'hello'= Values\n",
    "-      = Expression \n",
    "/      = Expression \n",
    "+      = Expression\n",
    "6      = Values"
   ]
  },
  {
   "cell_type": "markdown",
   "id": "e84c2f42-acd9-4b92-a615-106bf1a05f36",
   "metadata": {},
   "source": [
    "2. What is the difference between string and variable?\n",
    "ANSWER\n",
    "A Variable is a store of information, and a String is a type of information you would store in a Variable. \n",
    "A String is usually words, enclosed with \"\".\n",
    "\n",
    "Eg\n",
    "String x =\"WELCOME TO NEW WORLD\"\n",
    "X is the Variable, and we declared it as a String, use the single = to assign the text to it."
   ]
  },
  {
   "cell_type": "markdown",
   "id": "a1af9188-420d-42ab-bee0-a33e23d831f9",
   "metadata": {},
   "source": [
    "3. Describe three different data types.\n",
    "ANSWER\n",
    "The three data types are :\n",
    "INTEGER    = Int, or integer, is a whole number, positive or negative, without decimals, of unlimited length. \n",
    "SET        = The SET data type is an unordered collection type that stores unique elements. The number of elements in a SET data type can vary, but no nulls are allowed\n",
    "DICTIONARY = The Dictionary data type is optimized for fast lookup of values. The following methods are available on instances of the Dictionary data type. Method name."
   ]
  },
  {
   "cell_type": "markdown",
   "id": "5ed32807-6396-4b5c-8132-dfa2f30ec4a1",
   "metadata": {},
   "source": [
    "4. What is an expression made up of? What do all expressions do?\n",
    "ANSWER\n",
    "A combination of operands and operators is called an expression. The expression in Python produces some value or result after being interpreted by the Python interpreter. An expression in Python is a combination of operators and operands. An example of expression can be : x = x + 1 0, x = x + 10 x=x+10."
   ]
  },
  {
   "cell_type": "markdown",
   "id": "62a0bfd2-d18e-49d5-9d89-741eb98804a1",
   "metadata": {},
   "source": [
    "5. This assignment statements, like spam = 10. What is the difference between an\n",
    "expression and a statement?\n",
    "ANSWER\n",
    "An expression evaluates to a single value. A statement does not."
   ]
  },
  {
   "cell_type": "markdown",
   "id": "b87caa5a-f057-4622-9513-fbe7d29e005c",
   "metadata": {},
   "source": [
    "6. After running the following code, what does the variable bacon contain?\n",
    "bacon = 22\n",
    "bacon + 1\n",
    "ANSWER\n"
   ]
  },
  {
   "cell_type": "code",
   "execution_count": 2,
   "id": "76f288c4-237a-416c-96d8-1a0582e240f3",
   "metadata": {},
   "outputs": [
    {
     "data": {
      "text/plain": [
       "23"
      ]
     },
     "execution_count": 2,
     "metadata": {},
     "output_type": "execute_result"
    }
   ],
   "source": [
    "bacon = 22\n",
    "bacon + 1"
   ]
  },
  {
   "cell_type": "markdown",
   "id": "d352a423-f9e9-4fb5-80be-154ca42d8252",
   "metadata": {},
   "source": [
    "7. What should the values of the following two terms be?\n",
    "ANSWER"
   ]
  },
  {
   "cell_type": "code",
   "execution_count": 3,
   "id": "a2e29db3-4997-4ec7-aebc-5a05d8cd3494",
   "metadata": {},
   "outputs": [
    {
     "data": {
      "text/plain": [
       "'spamspamspam'"
      ]
     },
     "execution_count": 3,
     "metadata": {},
     "output_type": "execute_result"
    }
   ],
   "source": [
    "'spam' + 'spamspam'"
   ]
  },
  {
   "cell_type": "code",
   "execution_count": 4,
   "id": "d4d51985-a2db-4191-9c37-d5f91bbeb2af",
   "metadata": {},
   "outputs": [
    {
     "data": {
      "text/plain": [
       "'spamspamspam'"
      ]
     },
     "execution_count": 4,
     "metadata": {},
     "output_type": "execute_result"
    }
   ],
   "source": [
    "'spam'*3"
   ]
  },
  {
   "cell_type": "markdown",
   "id": "14cdc0cd-9eff-4b7d-9ffb-216e6a190b48",
   "metadata": {},
   "source": [
    "8. Why is eggs a valid variable name while 100 is invalid?\n",
    "ANSWER\n",
    "variable names can't start with numbers."
   ]
  },
  {
   "cell_type": "markdown",
   "id": "bb601c47-058d-4378-a5e3-e698ed541532",
   "metadata": {},
   "source": [
    "9. What three functions can be used to get the integer, floating-point number, or string\n",
    "version of a value?\n",
    "ANSWER\n",
    "The int() , float() , and str( ) functions will evaluate to the integer, floating-point number, and string versions of the value passed to them."
   ]
  },
  {
   "cell_type": "markdown",
   "id": "e07b31db-51eb-423f-b2b6-53f7e5db5080",
   "metadata": {},
   "source": [
    "10. Why does this expression cause an error? How can you fix it?\n",
    "'I have eaten' + 99 + 'burritos\n",
    "ANSWER\n",
    "'I have eaten' + str(99) + 'burritos'"
   ]
  },
  {
   "cell_type": "code",
   "execution_count": 7,
   "id": "3eac78fe-570c-4579-99ce-09bdaeae73b1",
   "metadata": {},
   "outputs": [
    {
     "data": {
      "text/plain": [
       "'I have eaten 99 burritos.'"
      ]
     },
     "execution_count": 7,
     "metadata": {},
     "output_type": "execute_result"
    }
   ],
   "source": [
    "'I have eaten '  + str(99) +  ' burritos.'"
   ]
  }
 ],
 "metadata": {
  "kernelspec": {
   "display_name": "Python 3 (ipykernel)",
   "language": "python",
   "name": "python3"
  },
  "language_info": {
   "codemirror_mode": {
    "name": "ipython",
    "version": 3
   },
   "file_extension": ".py",
   "mimetype": "text/x-python",
   "name": "python",
   "nbconvert_exporter": "python",
   "pygments_lexer": "ipython3",
   "version": "3.10.6"
  }
 },
 "nbformat": 4,
 "nbformat_minor": 5
}
